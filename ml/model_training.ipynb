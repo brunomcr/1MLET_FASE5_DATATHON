{
 "cells": [
  {
   "cell_type": "code",
   "execution_count": null,
   "metadata": {
    "vscode": {
     "languageId": "plaintext"
    }
   },
   "outputs": [],
   "source": [
    "from lightfm import LightFM\n",
    "from lightfm.data import Dataset\n",
    "import numpy as np\n",
    "import pandas as pd\n",
    "from scipy import sparse\n",
    "from sklearn.feature_extraction.text import TfidfVectorizer\n",
    "\n",
    "# 1. Preparação dos dados\n",
    "def prepare_features(treino_df, itens_df):\n",
    "    # Criar features do usuário\n",
    "    user_features = treino_df.select(\n",
    "        'userId',\n",
    "        'userType',\n",
    "        'historySize',\n",
    "        'timeOnPageHistory',\n",
    "        'scrollPercentageHistory'\n",
    "    )\n",
    "    \n",
    "    # Criar features do item\n",
    "    vectorizer = TfidfVectorizer(max_features=1000)\n",
    "    content_features = vectorizer.fit_transform(itens_df.select('title', 'body'))\n",
    "    \n",
    "    # Adicionar feature temporal\n",
    "    current_time = datetime.now()\n",
    "    itens_df = itens_df.withColumn(\n",
    "        'days_since_published',\n",
    "        datediff(current_time, col('issued'))\n",
    "    )\n",
    "    \n",
    "    return user_features, content_features\n",
    "\n",
    "# 2. Treinamento do modelo\n",
    "def train_model(interactions, user_features, item_features):\n",
    "    model = LightFM(\n",
    "        learning_rate=0.05,\n",
    "        loss='warp',\n",
    "        random_state=42,\n",
    "        user_alpha=1e-6,\n",
    "        item_alpha=1e-6\n",
    "    )\n",
    "    \n",
    "    model.fit(\n",
    "        interactions,\n",
    "        user_features=user_features,\n",
    "        item_features=item_features,\n",
    "        epochs=30,\n",
    "        num_threads=4\n",
    "    )\n",
    "    \n",
    "    return model\n",
    "\n",
    "# 3. Avaliação do modelo\n",
    "def evaluate_model(model, test_interactions, user_features, item_features):\n",
    "    precision = lightfm.evaluation.precision_at_k(\n",
    "        model,\n",
    "        test_interactions,\n",
    "        user_features=user_features,\n",
    "        item_features=item_features,\n",
    "        k=10\n",
    "    ).mean()\n",
    "    \n",
    "    return precision"
   ]
  }
 ],
 "metadata": {
  "language_info": {
   "name": "python"
  }
 },
 "nbformat": 4,
 "nbformat_minor": 2
}
