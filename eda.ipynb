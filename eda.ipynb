{
 "cells": [
  {
   "cell_type": "code",
   "execution_count": 1,
   "metadata": {},
   "outputs": [],
   "source": [
    "import pandas as pd\n",
    "import numpy as np\n",
    "from pyspark.sql import functions as F\n"
   ]
  },
  {
   "cell_type": "code",
   "execution_count": 2,
   "metadata": {},
   "outputs": [],
   "source": [
    "# Start Spark session\n",
    "from pyspark.sql import SparkSession\n",
    "from pyspark.sql.functions import *\n",
    "\n",
    "spark = SparkSession.builder \\\n",
    "    .appName(\"Silver Data Exploration\") \\\n",
    "    .config(\"spark.driver.memory\", \"8g\") \\\n",
    "    .config(\"spark.executor.memory\", \"8g\") \\\n",
    "    .config(\"spark.executor.cores\", \"4\") \\\n",
    "    .config(\"spark.default.parallelism\", \"12\") \\\n",
    "    .config(\"spark.sql.shuffle.partitions\", \"12\") \\\n",
    "    .config(\"spark.memory.fraction\", \"0.8\") \\\n",
    "    .config(\"spark.memory.storageFraction\", \"0.3\") \\\n",
    "    .config(\"spark.sql.files.maxPartitionBytes\", \"128m\") \\\n",
    "    .config(\"spark.sql.adaptive.enabled\", \"true\") \\\n",
    "    .config(\"spark.sql.adaptive.coalescePartitions.enabled\", \"true\") \\\n",
    "    .config(\"spark.sql.adaptive.skewJoin.enabled\", \"true\") \\\n",
    "    .config(\"spark.dynamicAllocation.enabled\", \"true\") \\\n",
    "    .config(\"spark.shuffle.service.enabled\", \"true\") \\\n",
    "    .config(\"spark.locality.wait\", \"0s\") \\\n",
    "    .getOrCreate()\n",
    "\n"
   ]
  },
  {
   "cell_type": "code",
   "execution_count": 3,
   "metadata": {},
   "outputs": [
    {
     "name": "stderr",
     "output_type": "stream",
     "text": [
      "ERROR:root:KeyboardInterrupt while sending command.\n",
      "Traceback (most recent call last):\n",
      "  File \"/opt/conda/lib/python3.11/site-packages/py4j/java_gateway.py\", line 1038, in send_command\n",
      "    response = connection.send_command(command)\n",
      "               ^^^^^^^^^^^^^^^^^^^^^^^^^^^^^^^^\n",
      "  File \"/opt/conda/lib/python3.11/site-packages/py4j/clientserver.py\", line 511, in send_command\n",
      "    answer = smart_decode(self.stream.readline()[:-1])\n",
      "                          ^^^^^^^^^^^^^^^^^^^^^^\n",
      "  File \"/opt/conda/lib/python3.11/socket.py\", line 706, in readinto\n",
      "    return self._sock.recv_into(b)\n",
      "           ^^^^^^^^^^^^^^^^^^^^^^^\n",
      "KeyboardInterrupt\n"
     ]
    },
    {
     "ename": "KeyboardInterrupt",
     "evalue": "",
     "output_type": "error",
     "traceback": [
      "\u001b[0;31m---------------------------------------------------------------------------\u001b[0m",
      "\u001b[0;31mKeyboardInterrupt\u001b[0m                         Traceback (most recent call last)",
      "Cell \u001b[0;32mIn[3], line 3\u001b[0m\n\u001b[1;32m      1\u001b[0m treino \u001b[38;5;241m=\u001b[39m \u001b[43mspark\u001b[49m\u001b[38;5;241;43m.\u001b[39;49m\u001b[43mread\u001b[49m\u001b[43m \u001b[49m\u001b[43m\\\u001b[49m\n\u001b[1;32m      2\u001b[0m \u001b[43m    \u001b[49m\u001b[38;5;241;43m.\u001b[39;49m\u001b[43moption\u001b[49m\u001b[43m(\u001b[49m\u001b[38;5;124;43m\"\u001b[39;49m\u001b[38;5;124;43mmergeSchema\u001b[39;49m\u001b[38;5;124;43m\"\u001b[39;49m\u001b[43m,\u001b[49m\u001b[43m \u001b[49m\u001b[38;5;124;43m\"\u001b[39;49m\u001b[38;5;124;43mfalse\u001b[39;49m\u001b[38;5;124;43m\"\u001b[39;49m\u001b[43m)\u001b[49m\u001b[43m \u001b[49m\u001b[43m\\\u001b[49m\n\u001b[0;32m----> 3\u001b[0m \u001b[43m    \u001b[49m\u001b[38;5;241;43m.\u001b[39;49m\u001b[43mparquet\u001b[49m\u001b[43m(\u001b[49m\u001b[38;5;124;43m\"\u001b[39;49m\u001b[38;5;124;43m/app/datalake/silver/treino/\u001b[39;49m\u001b[38;5;124;43m\"\u001b[39;49m\u001b[43m)\u001b[49m \\\n\u001b[1;32m      4\u001b[0m     \u001b[38;5;241m.\u001b[39mcoalesce(\u001b[38;5;241m2\u001b[39m)\n\u001b[1;32m      6\u001b[0m treino\u001b[38;5;241m.\u001b[39mshow(\u001b[38;5;241m10\u001b[39m,truncate\u001b[38;5;241m=\u001b[39m\u001b[38;5;28;01mFalse\u001b[39;00m)\n",
      "File \u001b[0;32m/opt/conda/lib/python3.11/site-packages/pyspark/sql/readwriter.py:544\u001b[0m, in \u001b[0;36mDataFrameReader.parquet\u001b[0;34m(self, *paths, **options)\u001b[0m\n\u001b[1;32m    533\u001b[0m int96RebaseMode \u001b[38;5;241m=\u001b[39m options\u001b[38;5;241m.\u001b[39mget(\u001b[38;5;124m\"\u001b[39m\u001b[38;5;124mint96RebaseMode\u001b[39m\u001b[38;5;124m\"\u001b[39m, \u001b[38;5;28;01mNone\u001b[39;00m)\n\u001b[1;32m    534\u001b[0m \u001b[38;5;28mself\u001b[39m\u001b[38;5;241m.\u001b[39m_set_opts(\n\u001b[1;32m    535\u001b[0m     mergeSchema\u001b[38;5;241m=\u001b[39mmergeSchema,\n\u001b[1;32m    536\u001b[0m     pathGlobFilter\u001b[38;5;241m=\u001b[39mpathGlobFilter,\n\u001b[0;32m   (...)\u001b[0m\n\u001b[1;32m    541\u001b[0m     int96RebaseMode\u001b[38;5;241m=\u001b[39mint96RebaseMode,\n\u001b[1;32m    542\u001b[0m )\n\u001b[0;32m--> 544\u001b[0m \u001b[38;5;28;01mreturn\u001b[39;00m \u001b[38;5;28mself\u001b[39m\u001b[38;5;241m.\u001b[39m_df(\u001b[38;5;28;43mself\u001b[39;49m\u001b[38;5;241;43m.\u001b[39;49m\u001b[43m_jreader\u001b[49m\u001b[38;5;241;43m.\u001b[39;49m\u001b[43mparquet\u001b[49m\u001b[43m(\u001b[49m\u001b[43m_to_seq\u001b[49m\u001b[43m(\u001b[49m\u001b[38;5;28;43mself\u001b[39;49m\u001b[38;5;241;43m.\u001b[39;49m\u001b[43m_spark\u001b[49m\u001b[38;5;241;43m.\u001b[39;49m\u001b[43m_sc\u001b[49m\u001b[43m,\u001b[49m\u001b[43m \u001b[49m\u001b[43mpaths\u001b[49m\u001b[43m)\u001b[49m\u001b[43m)\u001b[49m)\n",
      "File \u001b[0;32m/opt/conda/lib/python3.11/site-packages/py4j/java_gateway.py:1321\u001b[0m, in \u001b[0;36mJavaMember.__call__\u001b[0;34m(self, *args)\u001b[0m\n\u001b[1;32m   1314\u001b[0m args_command, temp_args \u001b[38;5;241m=\u001b[39m \u001b[38;5;28mself\u001b[39m\u001b[38;5;241m.\u001b[39m_build_args(\u001b[38;5;241m*\u001b[39margs)\n\u001b[1;32m   1316\u001b[0m command \u001b[38;5;241m=\u001b[39m proto\u001b[38;5;241m.\u001b[39mCALL_COMMAND_NAME \u001b[38;5;241m+\u001b[39m\\\n\u001b[1;32m   1317\u001b[0m     \u001b[38;5;28mself\u001b[39m\u001b[38;5;241m.\u001b[39mcommand_header \u001b[38;5;241m+\u001b[39m\\\n\u001b[1;32m   1318\u001b[0m     args_command \u001b[38;5;241m+\u001b[39m\\\n\u001b[1;32m   1319\u001b[0m     proto\u001b[38;5;241m.\u001b[39mEND_COMMAND_PART\n\u001b[0;32m-> 1321\u001b[0m answer \u001b[38;5;241m=\u001b[39m \u001b[38;5;28;43mself\u001b[39;49m\u001b[38;5;241;43m.\u001b[39;49m\u001b[43mgateway_client\u001b[49m\u001b[38;5;241;43m.\u001b[39;49m\u001b[43msend_command\u001b[49m\u001b[43m(\u001b[49m\u001b[43mcommand\u001b[49m\u001b[43m)\u001b[49m\n\u001b[1;32m   1322\u001b[0m return_value \u001b[38;5;241m=\u001b[39m get_return_value(\n\u001b[1;32m   1323\u001b[0m     answer, \u001b[38;5;28mself\u001b[39m\u001b[38;5;241m.\u001b[39mgateway_client, \u001b[38;5;28mself\u001b[39m\u001b[38;5;241m.\u001b[39mtarget_id, \u001b[38;5;28mself\u001b[39m\u001b[38;5;241m.\u001b[39mname)\n\u001b[1;32m   1325\u001b[0m \u001b[38;5;28;01mfor\u001b[39;00m temp_arg \u001b[38;5;129;01min\u001b[39;00m temp_args:\n",
      "File \u001b[0;32m/opt/conda/lib/python3.11/site-packages/py4j/java_gateway.py:1038\u001b[0m, in \u001b[0;36mGatewayClient.send_command\u001b[0;34m(self, command, retry, binary)\u001b[0m\n\u001b[1;32m   1036\u001b[0m connection \u001b[38;5;241m=\u001b[39m \u001b[38;5;28mself\u001b[39m\u001b[38;5;241m.\u001b[39m_get_connection()\n\u001b[1;32m   1037\u001b[0m \u001b[38;5;28;01mtry\u001b[39;00m:\n\u001b[0;32m-> 1038\u001b[0m     response \u001b[38;5;241m=\u001b[39m \u001b[43mconnection\u001b[49m\u001b[38;5;241;43m.\u001b[39;49m\u001b[43msend_command\u001b[49m\u001b[43m(\u001b[49m\u001b[43mcommand\u001b[49m\u001b[43m)\u001b[49m\n\u001b[1;32m   1039\u001b[0m     \u001b[38;5;28;01mif\u001b[39;00m binary:\n\u001b[1;32m   1040\u001b[0m         \u001b[38;5;28;01mreturn\u001b[39;00m response, \u001b[38;5;28mself\u001b[39m\u001b[38;5;241m.\u001b[39m_create_connection_guard(connection)\n",
      "File \u001b[0;32m/opt/conda/lib/python3.11/site-packages/py4j/clientserver.py:511\u001b[0m, in \u001b[0;36mClientServerConnection.send_command\u001b[0;34m(self, command)\u001b[0m\n\u001b[1;32m    509\u001b[0m \u001b[38;5;28;01mtry\u001b[39;00m:\n\u001b[1;32m    510\u001b[0m     \u001b[38;5;28;01mwhile\u001b[39;00m \u001b[38;5;28;01mTrue\u001b[39;00m:\n\u001b[0;32m--> 511\u001b[0m         answer \u001b[38;5;241m=\u001b[39m smart_decode(\u001b[38;5;28mself\u001b[39m\u001b[38;5;241m.\u001b[39mstream\u001b[38;5;241m.\u001b[39mreadline()[:\u001b[38;5;241m-\u001b[39m\u001b[38;5;241m1\u001b[39m])\n\u001b[1;32m    512\u001b[0m         logger\u001b[38;5;241m.\u001b[39mdebug(\u001b[38;5;124m\"\u001b[39m\u001b[38;5;124mAnswer received: \u001b[39m\u001b[38;5;132;01m{0}\u001b[39;00m\u001b[38;5;124m\"\u001b[39m\u001b[38;5;241m.\u001b[39mformat(answer))\n\u001b[1;32m    513\u001b[0m         \u001b[38;5;66;03m# Happens when a the other end is dead. There might be an empty\u001b[39;00m\n\u001b[1;32m    514\u001b[0m         \u001b[38;5;66;03m# answer before the socket raises an error.\u001b[39;00m\n",
      "File \u001b[0;32m/opt/conda/lib/python3.11/socket.py:706\u001b[0m, in \u001b[0;36mSocketIO.readinto\u001b[0;34m(self, b)\u001b[0m\n\u001b[1;32m    704\u001b[0m \u001b[38;5;28;01mwhile\u001b[39;00m \u001b[38;5;28;01mTrue\u001b[39;00m:\n\u001b[1;32m    705\u001b[0m     \u001b[38;5;28;01mtry\u001b[39;00m:\n\u001b[0;32m--> 706\u001b[0m         \u001b[38;5;28;01mreturn\u001b[39;00m \u001b[38;5;28;43mself\u001b[39;49m\u001b[38;5;241;43m.\u001b[39;49m\u001b[43m_sock\u001b[49m\u001b[38;5;241;43m.\u001b[39;49m\u001b[43mrecv_into\u001b[49m\u001b[43m(\u001b[49m\u001b[43mb\u001b[49m\u001b[43m)\u001b[49m\n\u001b[1;32m    707\u001b[0m     \u001b[38;5;28;01mexcept\u001b[39;00m timeout:\n\u001b[1;32m    708\u001b[0m         \u001b[38;5;28mself\u001b[39m\u001b[38;5;241m.\u001b[39m_timeout_occurred \u001b[38;5;241m=\u001b[39m \u001b[38;5;28;01mTrue\u001b[39;00m\n",
      "\u001b[0;31mKeyboardInterrupt\u001b[0m: "
     ]
    }
   ],
   "source": [
    "treino = spark.read \\\n",
    "    .option(\"mergeSchema\", \"false\") \\\n",
    "    .parquet(\"/app/datalake/silver/treino/\") \\\n",
    "    .coalesce(2)\n",
    "\n",
    "treino.show(10,truncate=False)"
   ]
  },
  {
   "cell_type": "code",
   "execution_count": null,
   "metadata": {
    "jupyter": {
     "source_hidden": true
    },
    "scrolled": true
   },
   "outputs": [],
   "source": [
    "treino.describe().show()\n"
   ]
  },
  {
   "cell_type": "code",
   "execution_count": null,
   "metadata": {
    "scrolled": true
   },
   "outputs": [],
   "source": [
    "treino_normalized = spark.read \\\n",
    "    .option(\"mergeSchema\", \"false\") \\\n",
    "    .parquet(\"/app/datalake/silver/treino_normalized/\") \\\n",
    "    .coalesce(2)\n",
    "\n",
    "treino_normalized.show(10,truncate=False)"
   ]
  },
  {
   "cell_type": "code",
   "execution_count": 5,
   "metadata": {},
   "outputs": [
    {
     "name": "stdout",
     "output_type": "stream",
     "text": [
      "+------------------------------------+-------------------+-------------------+------------------------------------------------------------------------------------+--------------------+-------------------+----+-----+---+\n",
      "|page                                |issued             |modified           |title                                                                               |days_since_published|days_since_modified|year|month|day|\n",
      "+------------------------------------+-------------------+-------------------+------------------------------------------------------------------------------------+--------------------+-------------------+----+-----+---+\n",
      "|78698773-9812-446d-be1f-2e70be61e1be|2021-01-01 03:23:31|2021-01-01 03:23:44|Prefeito e vereadores de Tucumã tomam posse; veja lista de eleitos                  |1511                |1511               |2021|1    |1  |\n",
      "|017964ac-b943-4513-8a8b-6741a38eee00|2021-01-01 04:50:51|2021-01-01 04:50:54|Prefeito e vereadores de São Caetano tomam posse; veja lista de eleitos             |1510                |1510               |2021|1    |1  |\n",
      "|7983a162-c696-4dde-8d1e-6ee21d9fb9af|2021-01-01 03:33:17|2021-01-01 03:33:18|Prefeito e vereadores de Guapiara tomam posse; veja lista de eleitos                |1511                |1511               |2021|1    |1  |\n",
      "|55a6fe96-2280-4505-b88d-156d6689e407|2021-01-01 03:28:16|2021-01-01 03:28:16|Prefeito e vereadores de Espírito Santo tomam posse; veja lista de eleitos          |1511                |1511               |2021|1    |1  |\n",
      "|7883f54d-59fe-4f15-82bc-4ac702a818e7|2021-01-01 04:54:09|2021-01-01 04:54:17|Prefeito e vereadores de Malhada dos Bois tomam posse; veja lista de eleitos        |1510                |1510               |2021|1    |1  |\n",
      "|b13f911d-7094-4fc6-8c7d-7933977288d3|2021-01-01 03:19:35|2021-01-01 03:19:47|Prefeito e vereadores de Aporé tomam posse; veja lista de eleitos                   |1511                |1511               |2021|1    |1  |\n",
      "|7485313d-6f04-4fb6-b609-86c47721c0b8|2021-01-01 03:40:12|2021-01-01 03:40:17|Prefeita e vereadores de Rio Maria tomam posse; veja lista de eleitos               |1511                |1511               |2021|1    |1  |\n",
      "|b0bdad2f-9e30-4cd7-8c20-9423626b132d|2021-01-01 03:02:39|2021-01-01 03:02:39|Prefeita de Itaberaí toma posse; eleição para vereadores está sub judice            |1511                |1511               |2021|1    |1  |\n",
      "|b47d8f9c-1d65-4bad-8807-9d28ea199a49|2021-01-01 04:09:21|2021-01-01 04:09:21|Prefeito e vereadores de Morro do Pilar tomam posse; veja lista de eleitos          |1510                |1510               |2021|1    |1  |\n",
      "|8438cbd5-b890-4aad-8365-292e6d0dbc3e|2021-01-01 04:42:21|2021-01-01 21:41:28|Prefeito e vereadores de Santa Maria da Boa Vista tomam posse; veja lista de eleitos|1510                |1510               |2021|1    |1  |\n",
      "+------------------------------------+-------------------+-------------------+------------------------------------------------------------------------------------+--------------------+-------------------+----+-----+---+\n",
      "only showing top 10 rows\n",
      "\n"
     ]
    }
   ],
   "source": [
    "itens = spark.read \\\n",
    "    .option(\"mergeSchema\", \"false\") \\\n",
    "    .parquet(\"/app/datalake/silver/itens/\") \\\n",
    "    .coalesce(2)\n",
    "\n",
    "itens.show(10,truncate=False)"
   ]
  },
  {
   "cell_type": "code",
   "execution_count": null,
   "metadata": {
    "jupyter": {
     "source_hidden": true
    }
   },
   "outputs": [],
   "source": [
    "from pyspark.sql.functions import min, max\n",
    "\n",
    "# Supondo que o nome da sua feature seja \"sua_feature\"\n",
    "itens.agg(min(\"days_since_published\").alias(\"min\"), max(\"days_since_published\").alias(\"max\")).show()\n"
   ]
  },
  {
   "cell_type": "code",
   "execution_count": null,
   "metadata": {
    "jupyter": {
     "source_hidden": true
    }
   },
   "outputs": [],
   "source": [
    "itens.describe().show()\n"
   ]
  },
  {
   "cell_type": "code",
   "execution_count": 6,
   "metadata": {},
   "outputs": [
    {
     "name": "stdout",
     "output_type": "stream",
     "text": [
      "+------------------------------------+-------------------+-------------------+---------------------------------------------------------------------------------------------------------+--------------------+-------------------+\n",
      "|page                                |issued             |modified           |title                                                                                                    |days_since_published|days_since_modified|\n",
      "+------------------------------------+-------------------+-------------------+---------------------------------------------------------------------------------------------------------+--------------------+-------------------+\n",
      "|6b8534ed-d39e-46ed-af1c-d69b414099db|2022-07-01 20:15:35|2022-07-01 22:49:54|É #FAKE que testes de Covid já vêm com resultado positivo e negativo                                     |0.03258522301718055 |0.2547178186567539 |\n",
      "|71eb8655-9ccc-4b08-911e-fa244834fd54|2022-07-01 21:51:46|2022-07-01 21:51:47|Poupatempo faz multirão para regularizar CNH de motoristas que exercem atividade remunerada              |0.03258522301718055 |0.2547178186567539 |\n",
      "|ceff793d-719b-4a22-8607-71544206ba19|2022-07-01 10:40:11|2022-07-01 10:40:36|Sindilojas oferece 123 vagas de emprego em Porto Alegre; veja como concorrer                             |0.03258522301718055 |0.2547178186567539 |\n",
      "|54ba3a15-af6d-4a30-bdc8-735fbf28d311|2022-07-01 14:30:49|2022-07-02 16:09:09|Central do CadÚnico no Recife passa a atender aos sábados para inscrever vítimas das chuvas em Pernambuco|0.03258522301718055 |0.25416011084080603|\n",
      "|8a540847-a4e5-4025-8244-bbcf9055e0f7|2022-07-01 19:23:28|2022-07-01 19:23:28|Veja como receber implantes contraceptivos gratuitamente em Ariquemes, RO                                |0.03258522301718055 |0.2547178186567539 |\n",
      "|5dadae84-5e00-44a0-9503-b3b158441f7e|2022-07-01 21:13:38|2022-07-01 21:13:38|Centro de Vigilância em Saúde vacina contra Covid-19 e Influenza no sábado em Juiz de Fora               |0.03258522301718055 |0.2547178186567539 |\n",
      "|e41315fa-7a51-48ab-8914-269a084755cc|2022-07-01 20:54:40|2022-07-02 00:41:06|VÍDEO: Tiroteio deixa feridos e um morto no terminal de ônibus de Pirajá, em Salvador                    |0.03258522301718055 |0.2547178186567539 |\n",
      "|8d178071-0640-4580-9d46-e4a468c5402e|2022-07-01 21:34:47|2022-07-01 21:34:47|MPF cobra medidas para proteção de agricultores ameaçados em Anapu, no Pará                              |0.03258522301718055 |0.2547178186567539 |\n",
      "|dc89ce25-cd31-49ba-8ce5-e5f75b2aa1ef|2022-07-01 18:51:28|2022-07-01 18:55:13|Recife realiza mutirão de vacinação contra Covid, gripe e sarampo sem agendamento em dez localidades     |0.03258522301718055 |0.2547178186567539 |\n",
      "|707bbe3b-36a8-48fc-b748-87f53cf8cc5a|2022-07-01 13:43:12|2022-07-01 13:47:07|Catedral São Pedro de Alcântara, em Petrópolis, é reaberta ao público e traz relíquias do século XVI     |0.03258522301718055 |0.2547178186567539 |\n",
      "+------------------------------------+-------------------+-------------------+---------------------------------------------------------------------------------------------------------+--------------------+-------------------+\n",
      "only showing top 10 rows\n",
      "\n"
     ]
    }
   ],
   "source": [
    "itens_normalized = spark.read \\\n",
    "    .option(\"mergeSchema\", \"false\") \\\n",
    "    .parquet(\"/app/datalake/silver/itens_normalized/year=2022/month=7/day=1\") \\\n",
    "    .coalesce(2)\n",
    "\n",
    "itens_normalized.show(10,truncate=False)"
   ]
  },
  {
   "cell_type": "code",
   "execution_count": 3,
   "metadata": {},
   "outputs": [
    {
     "name": "stdout",
     "output_type": "stream",
     "text": [
      "+------------------------------------+-------------------+-------------------+---------------------------------------------------------------------------------------------------------+--------------------+-------------------+------------------------------------------------------------------------------------------------------+------------------------------------------------------------------------------------------------------------------------+----------------------------------------------------------------------------------------------------------------+-----------------------------------------------------------------------------------------------------------------+-------------------------------------------------------------------------------------------------------------------------------------------------------------------------------------------------------------------------------------------------------------------------------------------------------------------------------------------+\n",
      "|page                                |issued             |modified           |title                                                                                                    |days_since_published|days_since_modified|cleaned_text                                                                                          |words                                                                                                                   |filtered                                                                                                        |rawFeatures                                                                                                      |features                                                                                                                                                                                                                                                                                                                                   |\n",
      "+------------------------------------+-------------------+-------------------+---------------------------------------------------------------------------------------------------------+--------------------+-------------------+------------------------------------------------------------------------------------------------------+------------------------------------------------------------------------------------------------------------------------+----------------------------------------------------------------------------------------------------------------+-----------------------------------------------------------------------------------------------------------------+-------------------------------------------------------------------------------------------------------------------------------------------------------------------------------------------------------------------------------------------------------------------------------------------------------------------------------------------+\n",
      "|6b8534ed-d39e-46ed-af1c-d69b414099db|2022-07-01 20:15:35|2022-07-01 22:49:54|É #FAKE que testes de Covid já vêm com resultado positivo e negativo                                     |0.03258522301718055 |0.2547178186567539 | fake que testes de covid j vm com resultado positivo e negativo                                      |[, fake, que, testes, de, covid, j, vm, com, resultado, positivo, e, negativo]                                          |[, fake, que, testes, de, covid, j, vm, com, resultado, positivo, e, negativo]                                  |(100,[36,39,42,44,48,50,60,72,76,85,87,93,95],[1.0,1.0,1.0,1.0,1.0,1.0,1.0,1.0,1.0,1.0,1.0,1.0,1.0])             |(100,[36,39,42,44,48,50,60,72,76,85,87,93,95],[2.369290767732733,2.364243096251473,1.5971856162029212,2.168639082340216,2.3875229672180773,0.7778465722133671,2.621974301675522,1.3585761094856348,2.840055842758066,0.31013323304715096,1.2408353563764596,1.9434991675718907,2.5086283093585067])                                        |\n",
      "|71eb8655-9ccc-4b08-911e-fa244834fd54|2022-07-01 21:51:46|2022-07-01 21:51:47|Poupatempo faz multirão para regularizar CNH de motoristas que exercem atividade remunerada              |0.03258522301718055 |0.2547178186567539 |poupatempo faz multiro para regularizar cnh de motoristas que exercem atividade remunerada            |[poupatempo, faz, multiro, para, regularizar, cnh, de, motoristas, que, exercem, atividade, remunerada]                 |[poupatempo, faz, multiro, para, regularizar, cnh, de, motoristas, que, exercem, atividade, remunerada]         |(100,[6,7,9,17,21,34,45,64,74,85,87,94],[1.0,1.0,1.0,1.0,1.0,1.0,1.0,1.0,1.0,1.0,1.0,1.0])                       |(100,[6,7,9,17,21,34,45,64,74,85,87,94],[1.2921955943683217,2.6793734610675926,2.811602261349539,2.516349982781077,2.4249717514419085,2.7891409766252027,1.9934661570324952,2.322835387809093,2.27913029694058,0.31013323304715096,1.2408353563764596,2.6567637532663206])                                                                 |\n",
      "|ceff793d-719b-4a22-8607-71544206ba19|2022-07-01 10:40:11|2022-07-01 10:40:36|Sindilojas oferece 123 vagas de emprego em Porto Alegre; veja como concorrer                             |0.03258522301718055 |0.2547178186567539 |sindilojas oferece 123 vagas de emprego em porto alegre veja como concorrer                           |[sindilojas, oferece, 123, vagas, de, emprego, em, porto, alegre, veja, como, concorrer]                                |[sindilojas, oferece, 123, vagas, de, emprego, em, porto, alegre, veja, como, concorrer]                        |(100,[7,10,19,23,28,29,44,54,55,65,81,85],[1.0,1.0,1.0,1.0,1.0,1.0,1.0,1.0,1.0,1.0,1.0,1.0])                     |(100,[7,10,19,23,28,29,44,54,55,65,81,85],[2.6793734610675926,2.5993482998702855,1.930308942140298,2.1780246260964304,2.4819221093556734,1.9168647117910607,2.168639082340216,2.6638692745316273,2.2642606985361757,2.0028149858351254,0.6990093082565866,0.31013323304715096])                                                            |\n",
      "|54ba3a15-af6d-4a30-bdc8-735fbf28d311|2022-07-01 14:30:49|2022-07-02 16:09:09|Central do CadÚnico no Recife passa a atender aos sábados para inscrever vítimas das chuvas em Pernambuco|0.03258522301718055 |0.25416011084080603|central do cadnico no recife passa a atender aos sbados para inscrever vtimas das chuvas em pernambuco|[central, do, cadnico, no, recife, passa, a, atender, aos, sbados, para, inscrever, vtimas, das, chuvas, em, pernambuco]|[central, cadnico, recife, passa, atender, aos, sbados, para, inscrever, vtimas, das, chuvas, em, pernambuco]   |(100,[0,6,18,22,28,47,60,61,63,81,85,87],[1.0,1.0,1.0,1.0,1.0,1.0,1.0,1.0,2.0,2.0,1.0,1.0])                      |(100,[0,6,18,22,28,47,60,61,63,81,85,87],[2.685780805642593,1.2921955943683217,2.345650372677982,2.5506508864758275,2.4819221093556734,2.290622688248851,2.621974301675522,2.6817142460135464,4.5530699493890445,1.3980186165131732,0.31013323304715096,1.2408353563764596])                                                               |\n",
      "|8a540847-a4e5-4025-8244-bbcf9055e0f7|2022-07-01 19:23:28|2022-07-01 19:23:28|Veja como receber implantes contraceptivos gratuitamente em Ariquemes, RO                                |0.03258522301718055 |0.2547178186567539 |veja como receber implantes contraceptivos gratuitamente em ariquemes ro                              |[veja, como, receber, implantes, contraceptivos, gratuitamente, em, ariquemes, ro]                                      |[veja, como, receber, implantes, contraceptivos, gratuitamente, em, ariquemes, ro]                              |(100,[1,19,30,46,59,65,81,83,91],[1.0,1.0,1.0,1.0,1.0,1.0,1.0,1.0,1.0])                                          |(100,[1,19,30,46,59,65,81,83,91],[2.681199945593627,1.930308942140298,1.2196424215570576,2.2525817336720295,2.515187923869502,2.0028149858351254,0.6990093082565866,2.5030671463614147,1.793584265815414])                                                                                                                                 |\n",
      "|5dadae84-5e00-44a0-9503-b3b158441f7e|2022-07-01 21:13:38|2022-07-01 21:13:38|Centro de Vigilância em Saúde vacina contra Covid-19 e Influenza no sábado em Juiz de Fora               |0.03258522301718055 |0.2547178186567539 |centro de vigilncia em sade vacina contra covid19 e influenza no sbado em juiz de fora                |[centro, de, vigilncia, em, sade, vacina, contra, covid19, e, influenza, no, sbado, em, juiz, de, fora]                 |[centro, de, vigilncia, em, sade, vacina, contra, covid19, e, influenza, sbado, em, juiz, de, fora]             |(100,[3,6,23,34,35,50,58,63,72,81,85,91],[1.0,1.0,1.0,1.0,1.0,1.0,1.0,1.0,1.0,3.0,2.0,1.0])                      |(100,[3,6,23,34,35,50,58,63,72,81,85,91],[2.1746797377211626,1.2921955943683217,2.1780246260964304,2.7891409766252027,2.5481971432882085,0.7778465722133671,2.0964393863205695,2.2765349746945223,1.3585761094856348,2.0970279247697596,0.6202664660943019,1.793584265815414])                                                             |\n",
      "|e41315fa-7a51-48ab-8914-269a084755cc|2022-07-01 20:54:40|2022-07-02 00:41:06|VÍDEO: Tiroteio deixa feridos e um morto no terminal de ônibus de Pirajá, em Salvador                    |0.03258522301718055 |0.2547178186567539 |vdeo tiroteio deixa feridos e um morto no terminal de nibus de piraj em salvador                      |[vdeo, tiroteio, deixa, feridos, e, um, morto, no, terminal, de, nibus, de, piraj, em, salvador]                        |[vdeo, tiroteio, deixa, feridos, e, um, morto, terminal, de, nibus, de, piraj, em, salvador]                    |(100,[8,16,24,46,48,50,74,81,85,87,90,96],[2.0,1.0,1.0,1.0,1.0,1.0,1.0,1.0,2.0,1.0,1.0,1.0])                     |(100,[8,16,24,46,48,50,74,81,85,87,90,96],[4.338304981741304,2.283381303859265,2.051403691823478,2.2525817336720295,2.3875229672180773,0.7778465722133671,2.27913029694058,0.6990093082565866,0.6202664660943019,1.2408353563764596,2.672440433353807,2.4877431754594594])                                                                 |\n",
      "|8d178071-0640-4580-9d46-e4a468c5402e|2022-07-01 21:34:47|2022-07-01 21:34:47|MPF cobra medidas para proteção de agricultores ameaçados em Anapu, no Pará                              |0.03258522301718055 |0.2547178186567539 |mpf cobra medidas para proteo de agricultores ameaados em anapu no par                                |[mpf, cobra, medidas, para, proteo, de, agricultores, ameaados, em, anapu, no, par]                                     |[mpf, cobra, medidas, para, proteo, de, agricultores, ameaados, em, anapu, par]                                 |(100,[0,4,5,6,35,65,81,85,88,91,93],[1.0,1.0,1.0,1.0,1.0,1.0,1.0,1.0,1.0,1.0,1.0])                               |(100,[0,4,5,6,35,65,81,85,88,91,93],[2.685780805642593,3.007712801137452,1.9945006101577007,1.2921955943683217,2.5481971432882085,2.0028149858351254,0.6990093082565866,0.31013323304715096,2.170900054150567,1.793584265815414,1.9434991675718907])                                                                                       |\n",
      "|dc89ce25-cd31-49ba-8ce5-e5f75b2aa1ef|2022-07-01 18:51:28|2022-07-01 18:55:13|Recife realiza mutirão de vacinação contra Covid, gripe e sarampo sem agendamento em dez localidades     |0.03258522301718055 |0.2547178186567539 |recife realiza mutiro de vacinao contra covid gripe e sarampo sem agendamento em dez localidades      |[recife, realiza, mutiro, de, vacinao, contra, covid, gripe, e, sarampo, sem, agendamento, em, dez, localidades]        |[recife, realiza, mutiro, de, vacinao, contra, covid, gripe, e, sarampo, sem, agendamento, em, dez, localidades]|(100,[17,23,29,32,38,44,50,55,67,81,85,86,91,95],[1.0,1.0,1.0,1.0,1.0,1.0,1.0,1.0,1.0,1.0,2.0,1.0,1.0,1.0])      |(100,[17,23,29,32,38,44,50,55,67,81,85,86,91,95],[2.516349982781077,2.1780246260964304,1.9168647117910607,2.5041673354178813,2.55921085817948,2.168639082340216,0.7778465722133671,2.2642606985361757,1.7181233201874362,0.6990093082565866,0.6202664660943019,2.289579471957343,1.793584265815414,2.5086283093585067])                    |\n",
      "|707bbe3b-36a8-48fc-b748-87f53cf8cc5a|2022-07-01 13:43:12|2022-07-01 13:47:07|Catedral São Pedro de Alcântara, em Petrópolis, é reaberta ao público e traz relíquias do século XVI     |0.03258522301718055 |0.2547178186567539 |catedral so pedro de alcntara em petrpolis  reaberta ao pblico e traz relquias do sculo xvi           |[catedral, so, pedro, de, alcntara, em, petrpolis, , reaberta, ao, pblico, e, traz, relquias, do, sculo, xvi]           |[catedral, pedro, de, alcntara, em, petrpolis, , reaberta, ao, pblico, e, traz, relquias, sculo, xvi]           |(100,[5,10,29,37,40,41,44,50,52,72,75,81,85,86,99],[1.0,1.0,1.0,1.0,1.0,1.0,1.0,1.0,1.0,1.0,1.0,1.0,1.0,1.0,1.0])|(100,[5,10,29,37,40,41,44,50,52,72,75,81,85,86,99],[1.9945006101577007,2.5993482998702855,1.9168647117910607,2.7342266764707,2.642372626502092,2.49047760741172,2.168639082340216,0.7778465722133671,2.0007877624359693,1.3585761094856348,2.2824222919515584,0.6990093082565866,0.31013323304715096,2.289579471957343,1.8298378170230445])|\n",
      "+------------------------------------+-------------------+-------------------+---------------------------------------------------------------------------------------------------------+--------------------+-------------------+------------------------------------------------------------------------------------------------------+------------------------------------------------------------------------------------------------------------------------+----------------------------------------------------------------------------------------------------------------+-----------------------------------------------------------------------------------------------------------------+-------------------------------------------------------------------------------------------------------------------------------------------------------------------------------------------------------------------------------------------------------------------------------------------------------------------------------------------+\n",
      "only showing top 10 rows\n",
      "\n"
     ]
    }
   ],
   "source": [
    "itens_embeddings = spark.read \\\n",
    "    .option(\"mergeSchema\", \"false\") \\\n",
    "    .parquet(\"/app/datalake/gold/tfidf_features/year=2022/month=7/day=1\") \\\n",
    "    .coalesce(2)\n",
    "\n",
    "itens_embeddings.show(10,truncate=False)"
   ]
  },
  {
   "cell_type": "code",
   "execution_count": 9,
   "metadata": {
    "collapsed": true,
    "jupyter": {
     "outputs_hidden": true,
     "source_hidden": true
    }
   },
   "outputs": [
    {
     "name": "stdout",
     "output_type": "stream",
     "text": [
      "+--------+------------------------------------+----+---------+-----+-----------------+--------+\n",
      "|user_idx|page                                |hour|dayofweek|month|interaction_score|item_idx|\n",
      "+--------+------------------------------------+----+---------+-----+-----------------+--------+\n",
      "|194362.0|c0a176b2-622f-42a4-8e5d-2a08032f8e08|12  |6        |7    |0.0              |191811.0|\n",
      "|194362.0|97ac6c4c-5b3d-4e36-9816-0791226573e5|12  |6        |7    |0.0              |150583.0|\n",
      "|194362.0|ece7f38e-1744-4885-83d9-2ffb89e40b11|14  |6        |7    |0.0              |235993.0|\n",
      "|318111.0|5fc43290-06bd-49fe-8d23-b8cb0f892548|11  |6        |7    |0.0              |95132.0 |\n",
      "|6513.0  |cfd8b7ef-29ec-446d-84b6-dfecf017e12a|11  |6        |7    |0.0              |207056.0|\n",
      "|6513.0  |9442c690-21b3-42bc-9e5a-f880de0fa0a8|12  |6        |7    |0.0              |147186.0|\n",
      "|6513.0  |a22fa1cd-f11e-426e-bd09-57781b82f6e7|13  |6        |7    |0.0              |161124.0|\n",
      "|6513.0  |1f2b9c2f-a2d2-4192-b009-09065da8ec23|14  |6        |7    |0.0              |30950.0 |\n",
      "|6513.0  |54fd8bf0-d4f2-42f8-89c6-a6d49245954f|14  |6        |7    |0.0              |84276.0 |\n",
      "|6513.0  |d57eb581-2a59-40d8-a0c0-972d96276025|14  |6        |7    |0.0              |212589.0|\n",
      "+--------+------------------------------------+----+---------+-----+-----------------+--------+\n",
      "only showing top 10 rows\n",
      "\n"
     ]
    }
   ],
   "source": [
    "matrices_interactions = spark.read \\\n",
    "    .option(\"mergeSchema\", \"false\") \\\n",
    "    .parquet(\"datalake/gold/matrices/interactions/year=2022/month=7/day=1\") \\\n",
    "    .coalesce(2)\n",
    "\n",
    "matrices_interactions.show(10,truncate=False)"
   ]
  },
  {
   "cell_type": "code",
   "execution_count": 10,
   "metadata": {
    "collapsed": true,
    "jupyter": {
     "outputs_hidden": true,
     "source_hidden": true
    }
   },
   "outputs": [
    {
     "name": "stdout",
     "output_type": "stream",
     "text": [
      "+--------+-----------+---------------+\n",
      "|item_idx|feature_idx|embedding_value|\n",
      "+--------+-----------+---------------+\n",
      "|7.0     |0          |2.60304        |\n",
      "|7.0     |1          |0.0            |\n",
      "|7.0     |2          |0.0            |\n",
      "|7.0     |3          |0.0            |\n",
      "|7.0     |4          |0.0            |\n",
      "|7.0     |5          |0.0            |\n",
      "|7.0     |6          |0.0            |\n",
      "|7.0     |7          |0.0            |\n",
      "|7.0     |8          |0.0            |\n",
      "|7.0     |9          |0.0            |\n",
      "+--------+-----------+---------------+\n",
      "only showing top 10 rows\n",
      "\n"
     ]
    }
   ],
   "source": [
    "matrices_item_features = spark.read \\\n",
    "    .option(\"mergeSchema\", \"false\") \\\n",
    "    .parquet(\"datalake/gold/matrices/item_features\") \\\n",
    "    .coalesce(2)\n",
    "\n",
    "matrices_item_features.show(10,truncate=False)"
   ]
  },
  {
   "cell_type": "code",
   "execution_count": 11,
   "metadata": {
    "collapsed": true,
    "jupyter": {
     "outputs_hidden": true,
     "source_hidden": true
    }
   },
   "outputs": [
    {
     "name": "stdout",
     "output_type": "stream",
     "text": [
      "+------------------------------------+--------+\n",
      "|page                                |item_idx|\n",
      "+------------------------------------+--------+\n",
      "|000031b7-5c82-4e5c-bc37-6acba5e5027d|0       |\n",
      "|0000352b-5a88-4a69-8f30-120da7169573|1       |\n",
      "|00004767-ce1e-436a-85c0-68ee9f456a61|2       |\n",
      "|00004fb2-18c3-4b13-94f5-d334c3d3259a|3       |\n",
      "|0000d552-fb56-4fc1-9f7d-17fac18e6937|4       |\n",
      "|0001eba9-55f4-477f-9de3-dc93b8b95574|5       |\n",
      "|00021df2-031a-4bd6-9568-1b203530d8fa|6       |\n",
      "|00023dfe-6554-4de8-8dfd-f6ede169808e|7       |\n",
      "|000278b4-cc13-404e-9a1d-8bc1f7bf456e|8       |\n",
      "|00030c8c-7fe8-4c44-aa6d-2c6a899c3ce5|9       |\n",
      "+------------------------------------+--------+\n",
      "only showing top 10 rows\n",
      "\n"
     ]
    }
   ],
   "source": [
    "from pyspark.sql.window import Window\n",
    "from pyspark.sql.functions import explode, row_number\n",
    "\n",
    "# Ler e explodir os arrays aninhados\n",
    "page_indexer = spark.read \\\n",
    "    .parquet(\"datalake/gold/matrices/page_indexer/data\") \\\n",
    "    .select(explode(\"labelsArray\").alias(\"labels\")) \\\n",
    "    .select(explode(\"labels\").alias(\"page\")) \\\n",
    "    .withColumn(\"item_idx\", row_number().over(Window.orderBy(\"page\")) - 1)\n",
    "\n",
    "# Mostrar o mapeamento\n",
    "page_indexer.show(10, truncate=False)"
   ]
  },
  {
   "cell_type": "code",
   "execution_count": 12,
   "metadata": {
    "collapsed": true,
    "jupyter": {
     "outputs_hidden": true,
     "source_hidden": true
    }
   },
   "outputs": [
    {
     "name": "stdout",
     "output_type": "stream",
     "text": [
      "+----------------------------------------------------------------+--------+\n",
      "|page                                                            |item_idx|\n",
      "+----------------------------------------------------------------+--------+\n",
      "|000044b36375e7f1a66a9476affc2ddc83c2ec6dd18951668074de9c6a0faf15|0       |\n",
      "|00004868f064a8147619ca4d75eac9ccabfbe1169840e67008a7c1350206807b|1       |\n",
      "|00007a4e5949a3dba7c977503c53e0873643fe17d0802aca678ad62d0b4d94f8|2       |\n",
      "|000087b05ccb95dec5d55e968764285c5403747fc35da2127f13bfd3879cd9e9|3       |\n",
      "|00011b1ced626112372206634e0e9b5ccb432da916e83f2bad98dd2f3daafcd9|4       |\n",
      "|00012cd490cea9fe043146807def18c830fa0d0b791772ed6a70ee03618df548|5       |\n",
      "|00014a8ad79d212f0410c3dd3260e37a093054b9d9a6a80b04843fd3ec9ee39b|6       |\n",
      "|00019abf778947398b46310c3947cc0260f30e79683ae9e244e3af0a5a29aa0f|7       |\n",
      "|0001b40676c18a37bf25f0b1921ad12513c434cb57db18847fed8c8c743df905|8       |\n",
      "|0001b9972aec5ac47e28fb0a0747d598f4c4058c2dbd3f8fbc6e23bced2fcc19|9       |\n",
      "+----------------------------------------------------------------+--------+\n",
      "only showing top 10 rows\n",
      "\n"
     ]
    }
   ],
   "source": [
    "from pyspark.sql.window import Window\n",
    "from pyspark.sql.functions import explode, row_number\n",
    "\n",
    "# Ler e explodir os arrays aninhados\n",
    "user_indexer = spark.read \\\n",
    "    .parquet(\"datalake/gold/matrices/user_indexer/data\") \\\n",
    "    .select(explode(\"labelsArray\").alias(\"labels\")) \\\n",
    "    .select(explode(\"labels\").alias(\"page\")) \\\n",
    "    .withColumn(\"item_idx\", row_number().over(Window.orderBy(\"page\")) - 1)\n",
    "\n",
    "# Mostrar o mapeamento\n",
    "user_indexer.show(10, truncate=False)"
   ]
  }
 ],
 "metadata": {
  "kernelspec": {
   "display_name": "Python 3 (ipykernel)",
   "language": "python",
   "name": "python3"
  },
  "language_info": {
   "codemirror_mode": {
    "name": "ipython",
    "version": 3
   },
   "file_extension": ".py",
   "mimetype": "text/x-python",
   "name": "python",
   "nbconvert_exporter": "python",
   "pygments_lexer": "ipython3",
   "version": "3.11.6"
  }
 },
 "nbformat": 4,
 "nbformat_minor": 4
}
