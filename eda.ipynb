{
 "cells": [
  {
   "cell_type": "code",
   "execution_count": 2,
   "metadata": {},
   "outputs": [],
   "source": [
    "import pandas as pd\n",
    "import numpy as np\n",
    "from pyspark.sql import functions as F\n"
   ]
  },
  {
   "cell_type": "code",
   "execution_count": 3,
   "metadata": {},
   "outputs": [
    {
     "name": "stderr",
     "output_type": "stream",
     "text": [
      "Setting default log level to \"WARN\".\n",
      "To adjust logging level use sc.setLogLevel(newLevel). For SparkR, use setLogLevel(newLevel).\n",
      "25/02/19 19:02:43 WARN NativeCodeLoader: Unable to load native-hadoop library for your platform... using builtin-java classes where applicable\n",
      "25/02/19 19:02:44 WARN Utils: Service 'SparkUI' could not bind on port 4040. Attempting port 4041.\n"
     ]
    }
   ],
   "source": [
    "# Start Spark session\n",
    "from pyspark.sql import SparkSession\n",
    "from pyspark.sql.functions import *\n",
    "\n",
    "spark = SparkSession.builder \\\n",
    "    .appName(\"Silver Data Exploration\") \\\n",
    "    .config(\"spark.driver.memory\", \"8g\") \\\n",
    "    .config(\"spark.executor.memory\", \"8g\") \\\n",
    "    .config(\"spark.executor.cores\", \"4\") \\\n",
    "    .config(\"spark.default.parallelism\", \"12\") \\\n",
    "    .config(\"spark.sql.shuffle.partitions\", \"12\") \\\n",
    "    .config(\"spark.memory.fraction\", \"0.8\") \\\n",
    "    .config(\"spark.memory.storageFraction\", \"0.3\") \\\n",
    "    .config(\"spark.sql.files.maxPartitionBytes\", \"128m\") \\\n",
    "    .config(\"spark.sql.adaptive.enabled\", \"true\") \\\n",
    "    .config(\"spark.sql.adaptive.coalescePartitions.enabled\", \"true\") \\\n",
    "    .config(\"spark.sql.adaptive.skewJoin.enabled\", \"true\") \\\n",
    "    .config(\"spark.dynamicAllocation.enabled\", \"true\") \\\n",
    "    .config(\"spark.shuffle.service.enabled\", \"true\") \\\n",
    "    .config(\"spark.locality.wait\", \"0s\") \\\n",
    "    .getOrCreate()\n",
    "\n"
   ]
  },
  {
   "cell_type": "code",
   "execution_count": 6,
   "metadata": {},
   "outputs": [],
   "source": [
    "treino = spark.read \\\n",
    "    .option(\"mergeSchema\", \"false\") \\\n",
    "    .parquet(\"/app/datalake/silver/treino/year=2022/month=7/day=1\") \\\n",
    "    .coalesce(2)"
   ]
  },
  {
   "cell_type": "code",
   "execution_count": 9,
   "metadata": {},
   "outputs": [
    {
     "name": "stdout",
     "output_type": "stream",
     "text": [
      "+----------------------------------------------------------------+----------+------------------------------------+----------------+---------------------+-----------------+-----------------------+----------------------+\n",
      "|userId                                                          |userType  |history                             |timestampHistory|numberOfClicksHistory|timeOnPageHistory|scrollPercentageHistory|pageVisitsCountHistory|\n",
      "+----------------------------------------------------------------+----------+------------------------------------+----------------+---------------------+-----------------+-----------------------+----------------------+\n",
      "|c58c8345159e60366e064b469dcdadb00a220f6ab06d8cce78bfb78698ccce72|Non-Logged|0077f0d7-1d66-4e4c-b6e4-cc56f67306b6|1.656692666909E9|19                   |38435            |41.16                  |1                     |\n",
      "|c58c8345159e60366e064b469dcdadb00a220f6ab06d8cce78bfb78698ccce72|Non-Logged|efef5cd6-fbf5-469c-bf43-8e0d30f64134|1.656717539016E9|36                   |67213            |37.66                  |1                     |\n",
      "|39b3b5013e81a93defa2b68e54a6b5208e292e40f0b50e0a7683e1e9999cfa01|Logged    |82e7b237-e7ea-4cf5-b44c-55385e2cdbb0|1.656685601568E9|25                   |80000            |41.27                  |1                     |\n",
      "|39b3b5013e81a93defa2b68e54a6b5208e292e40f0b50e0a7683e1e9999cfa01|Logged    |109adb08-8ff3-408b-b828-e16b51788202|1.656697808825E9|1                    |10000            |19.2                   |1                     |\n",
      "|ffbed3f93cbab7c00e505661ebea72637189fdc8c9498970e6fb73cf9dad7822|Logged    |426e9777-7ad8-4b0f-98f4-48e8ee96ace5|1.656681524045E9|11                   |41429            |33.31                  |1                     |\n",
      "|ac149b687cc1c57174ee9838ffd6b7c95502bacf41ee0e34b2e469d925b1e765|Non-Logged|352e341c-bbd1-4bd9-9732-fb917cb37803|1.656702040925E9|0                    |12708            |12.5                   |1                     |\n",
      "|0171db3b4fc1d372ecdc980bb2ca2c5e4dda8493047c2c612ca9037c4135a91c|Non-Logged|8c67956e-c8a7-4ee1-8f09-aa9ee4d27279|1.656677035326E9|0                    |10000            |7.96                   |1                     |\n",
      "|a5135f09fbb45dfd1e3f8dcbfa23efb2e220b96153d0fd8b3ed8d3c03a33b052|Logged    |5add4d01-a7d7-4819-a657-e677b24ece4d|1.656683562145E9|26                   |148288           |57.29                  |1                     |\n",
      "|a5135f09fbb45dfd1e3f8dcbfa23efb2e220b96153d0fd8b3ed8d3c03a33b052|Logged    |914fe264-109c-4d4d-8f18-052785666a24|1.656713575463E9|13                   |56994            |33.02                  |1                     |\n",
      "|a5135f09fbb45dfd1e3f8dcbfa23efb2e220b96153d0fd8b3ed8d3c03a33b052|Logged    |66a9efac-fd43-4fd1-9824-c404b08efa5d|1.656714040673E9|15                   |78937            |49.06                  |2                     |\n",
      "+----------------------------------------------------------------+----------+------------------------------------+----------------+---------------------+-----------------+-----------------------+----------------------+\n",
      "only showing top 10 rows\n",
      "\n"
     ]
    }
   ],
   "source": [
    "treino.show(10,truncate=False)"
   ]
  },
  {
   "cell_type": "code",
   "execution_count": 10,
   "metadata": {},
   "outputs": [
    {
     "name": "stdout",
     "output_type": "stream",
     "text": [
      "+----------------------------------------------------------------+----------+------------------------------------+----------------+---------------------+------------------+-----------------------+----------------------+\n",
      "|userId                                                          |userType  |history                             |timestampHistory|numberOfClicksHistory|timeOnPageHistory |scrollPercentageHistory|pageVisitsCountHistory|\n",
      "+----------------------------------------------------------------+----------+------------------------------------+----------------+---------------------+------------------+-----------------------+----------------------+\n",
      "|c58c8345159e60366e064b469dcdadb00a220f6ab06d8cce78bfb78698ccce72|Non-Logged|0077f0d7-1d66-4e4c-b6e4-cc56f67306b6|1.656692666909E9|0.0013047658288696609|10.556749799397158|7.817197746341996E-5   |0.0                   |\n",
      "|c58c8345159e60366e064b469dcdadb00a220f6ab06d8cce78bfb78698ccce72|Non-Logged|efef5cd6-fbf5-469c-bf43-8e0d30f64134|1.656717539016E9|0.0024721878862793575|11.1156368381462  |7.152146890401831E-5   |0.0                   |\n",
      "|39b3b5013e81a93defa2b68e54a6b5208e292e40f0b50e0a7683e1e9999cfa01|Logged    |82e7b237-e7ea-4cf5-b44c-55385e2cdbb0|1.656685601568E9|0.0017167971432495537|11.289794413577894|7.838099460647208E-5   |0.0                   |\n",
      "|39b3b5013e81a93defa2b68e54a6b5208e292e40f0b50e0a7683e1e9999cfa01|Logged    |109adb08-8ff3-408b-b828-e16b51788202|1.656697808825E9|6.867188572998215E-5 |9.210440366976517 |3.644478835606629E-5   |0.0                   |\n",
      "|ffbed3f93cbab7c00e505661ebea72637189fdc8c9498970e6fb73cf9dad7822|Logged    |426e9777-7ad8-4b0f-98f4-48e8ee96ace5|1.656681524045E9|7.553907430298037E-4 |10.631760535071448|6.325583973672504E-5   |0.0                   |\n",
      "|ac149b687cc1c57174ee9838ffd6b7c95502bacf41ee0e34b2e469d925b1e765|Non-Logged|352e341c-bbd1-4bd9-9732-fb917cb37803|1.656702040925E9|0.0                  |9.450065682882071 |2.371381337837303E-5   |0.0                   |\n",
      "|0171db3b4fc1d372ecdc980bb2ca2c5e4dda8493047c2c612ca9037c4135a91c|Non-Logged|8c67956e-c8a7-4ee1-8f09-aa9ee4d27279|1.656677035326E9|0.0                  |9.210440366976517 |1.5087153776662538E-5  |0.0                   |\n",
      "|a5135f09fbb45dfd1e3f8dcbfa23efb2e220b96153d0fd8b3ed8d3c03a33b052|Logged    |5add4d01-a7d7-4819-a657-e677b24ece4d|1.656683562145E9|0.0017854690289795358|11.90691835140332 |1.0882132322532227E-4  |0.0                   |\n",
      "|a5135f09fbb45dfd1e3f8dcbfa23efb2e220b96153d0fd8b3ed8d3c03a33b052|Logged    |914fe264-109c-4d4d-8f18-052785666a24|1.656713575463E9|8.927345144897679E-4 |10.95071882367088 |6.270479585931106E-5   |0.0                   |\n",
      "|a5135f09fbb45dfd1e3f8dcbfa23efb2e220b96153d0fd8b3ed8d3c03a33b052|Logged    |66a9efac-fd43-4fd1-9824-c404b08efa5d|1.656714040673E9|0.0010300782859497322|11.276418013197885|9.318312825403245E-5   |0.0015313935681470138 |\n",
      "+----------------------------------------------------------------+----------+------------------------------------+----------------+---------------------+------------------+-----------------------+----------------------+\n",
      "only showing top 10 rows\n",
      "\n"
     ]
    }
   ],
   "source": [
    "treino_normalized = spark.read \\\n",
    "    .option(\"mergeSchema\", \"false\") \\\n",
    "    .parquet(\"/app/datalake/silver/treino_normalized/year=2022/month=7/day=1\") \\\n",
    "    .coalesce(2)\n",
    "\n",
    "treino_normalized.show(10,truncate=False)"
   ]
  },
  {
   "cell_type": "code",
   "execution_count": 11,
   "metadata": {},
   "outputs": [
    {
     "name": "stdout",
     "output_type": "stream",
     "text": [
      "+------------------------------------+-------------------+-------------------+---------------------------------------------------------------------------------------------------------+\n",
      "|page                                |issued             |modified           |title                                                                                                    |\n",
      "+------------------------------------+-------------------+-------------------+---------------------------------------------------------------------------------------------------------+\n",
      "|6b8534ed-d39e-46ed-af1c-d69b414099db|2022-07-01 20:15:35|2022-07-01 22:49:54|É #FAKE que testes de Covid já vêm com resultado positivo e negativo                                     |\n",
      "|71eb8655-9ccc-4b08-911e-fa244834fd54|2022-07-01 21:51:46|2022-07-01 21:51:47|Poupatempo faz multirão para regularizar CNH de motoristas que exercem atividade remunerada              |\n",
      "|ceff793d-719b-4a22-8607-71544206ba19|2022-07-01 10:40:11|2022-07-01 10:40:36|Sindilojas oferece 123 vagas de emprego em Porto Alegre; veja como concorrer                             |\n",
      "|54ba3a15-af6d-4a30-bdc8-735fbf28d311|2022-07-01 14:30:49|2022-07-02 16:09:09|Central do CadÚnico no Recife passa a atender aos sábados para inscrever vítimas das chuvas em Pernambuco|\n",
      "|8a540847-a4e5-4025-8244-bbcf9055e0f7|2022-07-01 19:23:28|2022-07-01 19:23:28|Veja como receber implantes contraceptivos gratuitamente em Ariquemes, RO                                |\n",
      "|5dadae84-5e00-44a0-9503-b3b158441f7e|2022-07-01 21:13:38|2022-07-01 21:13:38|Centro de Vigilância em Saúde vacina contra Covid-19 e Influenza no sábado em Juiz de Fora               |\n",
      "|e41315fa-7a51-48ab-8914-269a084755cc|2022-07-01 20:54:40|2022-07-02 00:41:06|VÍDEO: Tiroteio deixa feridos e um morto no terminal de ônibus de Pirajá, em Salvador                    |\n",
      "|8d178071-0640-4580-9d46-e4a468c5402e|2022-07-01 21:34:47|2022-07-01 21:34:47|MPF cobra medidas para proteção de agricultores ameaçados em Anapu, no Pará                              |\n",
      "|dc89ce25-cd31-49ba-8ce5-e5f75b2aa1ef|2022-07-01 18:51:28|2022-07-01 18:55:13|Recife realiza mutirão de vacinação contra Covid, gripe e sarampo sem agendamento em dez localidades     |\n",
      "|707bbe3b-36a8-48fc-b748-87f53cf8cc5a|2022-07-01 13:43:12|2022-07-01 13:47:07|Catedral São Pedro de Alcântara, em Petrópolis, é reaberta ao público e traz relíquias do século XVI     |\n",
      "+------------------------------------+-------------------+-------------------+---------------------------------------------------------------------------------------------------------+\n",
      "only showing top 10 rows\n",
      "\n"
     ]
    }
   ],
   "source": [
    "itens = spark.read \\\n",
    "    .option(\"mergeSchema\", \"false\") \\\n",
    "    .parquet(\"/app/datalake/silver/itens/year=2022/month=7/day=1\") \\\n",
    "    .coalesce(2)\n",
    "\n",
    "itens.show(10,truncate=False)"
   ]
  },
  {
   "cell_type": "code",
   "execution_count": 13,
   "metadata": {},
   "outputs": [
    {
     "name": "stdout",
     "output_type": "stream",
     "text": [
      "+------------------------------------+-------------------+-------------------+---------------------------------------------------------------------------------------------------------+\n",
      "|page                                |issued             |modified           |title                                                                                                    |\n",
      "+------------------------------------+-------------------+-------------------+---------------------------------------------------------------------------------------------------------+\n",
      "|6b8534ed-d39e-46ed-af1c-d69b414099db|2022-07-01 20:15:35|2022-07-01 22:49:54|É #FAKE que testes de Covid já vêm com resultado positivo e negativo                                     |\n",
      "|71eb8655-9ccc-4b08-911e-fa244834fd54|2022-07-01 21:51:46|2022-07-01 21:51:47|Poupatempo faz multirão para regularizar CNH de motoristas que exercem atividade remunerada              |\n",
      "|ceff793d-719b-4a22-8607-71544206ba19|2022-07-01 10:40:11|2022-07-01 10:40:36|Sindilojas oferece 123 vagas de emprego em Porto Alegre; veja como concorrer                             |\n",
      "|54ba3a15-af6d-4a30-bdc8-735fbf28d311|2022-07-01 14:30:49|2022-07-02 16:09:09|Central do CadÚnico no Recife passa a atender aos sábados para inscrever vítimas das chuvas em Pernambuco|\n",
      "|8a540847-a4e5-4025-8244-bbcf9055e0f7|2022-07-01 19:23:28|2022-07-01 19:23:28|Veja como receber implantes contraceptivos gratuitamente em Ariquemes, RO                                |\n",
      "|5dadae84-5e00-44a0-9503-b3b158441f7e|2022-07-01 21:13:38|2022-07-01 21:13:38|Centro de Vigilância em Saúde vacina contra Covid-19 e Influenza no sábado em Juiz de Fora               |\n",
      "|e41315fa-7a51-48ab-8914-269a084755cc|2022-07-01 20:54:40|2022-07-02 00:41:06|VÍDEO: Tiroteio deixa feridos e um morto no terminal de ônibus de Pirajá, em Salvador                    |\n",
      "|8d178071-0640-4580-9d46-e4a468c5402e|2022-07-01 21:34:47|2022-07-01 21:34:47|MPF cobra medidas para proteção de agricultores ameaçados em Anapu, no Pará                              |\n",
      "|dc89ce25-cd31-49ba-8ce5-e5f75b2aa1ef|2022-07-01 18:51:28|2022-07-01 18:55:13|Recife realiza mutirão de vacinação contra Covid, gripe e sarampo sem agendamento em dez localidades     |\n",
      "|707bbe3b-36a8-48fc-b748-87f53cf8cc5a|2022-07-01 13:43:12|2022-07-01 13:47:07|Catedral São Pedro de Alcântara, em Petrópolis, é reaberta ao público e traz relíquias do século XVI     |\n",
      "+------------------------------------+-------------------+-------------------+---------------------------------------------------------------------------------------------------------+\n",
      "only showing top 10 rows\n",
      "\n"
     ]
    }
   ],
   "source": [
    "itens_normalized = spark.read \\\n",
    "    .option(\"mergeSchema\", \"false\") \\\n",
    "    .parquet(\"/app/datalake/silver/itens_normalized/year=2022/month=7/day=1\") \\\n",
    "    .coalesce(2)\n",
    "\n",
    "itens_normalized.show(10,truncate=False)"
   ]
  },
  {
   "cell_type": "code",
   "execution_count": 14,
   "metadata": {},
   "outputs": [
    {
     "name": "stdout",
     "output_type": "stream",
     "text": [
      "+------------------------------------+-------------------+-------------------+---------------------------------------------------------------------------------------------------------+---------------------------------------------------------------------------------------------------------------------------+----------------------------------------------------------------------------------------------------+-------------------------------------------------------------------------------------+---------------------------------------------------------------------------------------------------------------------------------------------------------------------------------------------------------------------------------------------------+\n",
      "|page                                |issued             |modified           |title                                                                                                    |words                                                                                                                      |filtered_words                                                                                      |raw_features                                                                         |tfidf_features                                                                                                                                                                                                                                     |\n",
      "+------------------------------------+-------------------+-------------------+---------------------------------------------------------------------------------------------------------+---------------------------------------------------------------------------------------------------------------------------+----------------------------------------------------------------------------------------------------+-------------------------------------------------------------------------------------+---------------------------------------------------------------------------------------------------------------------------------------------------------------------------------------------------------------------------------------------------+\n",
      "|6b8534ed-d39e-46ed-af1c-d69b414099db|2022-07-01 20:15:35|2022-07-01 22:49:54|É #FAKE que testes de Covid já vêm com resultado positivo e negativo                                     |[é, #fake, que, testes, de, covid, já, vêm, com, resultado, positivo, e, negativo]                                         |[#fake, testes, covid, já, vêm, resultado, positivo, negativo]                                      |(100,[5,17,39,44,76,84,93,95],[1.0,1.0,1.0,1.0,1.0,1.0,1.0,1.0])                     |(100,[5,17,39,44,76,84,93,95],[1.9388654915968653,2.604150039830005,2.380816090901537,2.119366717240046,2.700349221470883,2.5968772805009253,2.010673000658685,2.442771610238207])                                                                 |\n",
      "|71eb8655-9ccc-4b08-911e-fa244834fd54|2022-07-01 21:51:46|2022-07-01 21:51:47|Poupatempo faz multirão para regularizar CNH de motoristas que exercem atividade remunerada              |[poupatempo, faz, multirão, para, regularizar, cnh, de, motoristas, que, exercem, atividade, remunerada]                   |[poupatempo, faz, multirão, regularizar, cnh, motoristas, exercem, atividade, remunerada]           |(100,[7,9,21,34,39,45,64,74,94],[1.0,1.0,1.0,1.0,1.0,1.0,1.0,1.0,1.0])               |(100,[7,9,21,34,39,45,64,74,94],[2.6169256846896425,2.5860663643967094,2.4298474315053924,2.550951759008435,2.380816090901537,2.110933323111671,2.5323682966615797,2.3235942192451504,2.3512207331801678])                                         |\n",
      "|ceff793d-719b-4a22-8607-71544206ba19|2022-07-01 10:40:11|2022-07-01 10:40:36|Sindilojas oferece 123 vagas de emprego em Porto Alegre; veja como concorrer                             |[sindilojas, oferece, 123, vagas, de, emprego, em, porto, alegre;, veja, como, concorrer]                                  |[sindilojas, oferece, 123, vagas, emprego, porto, alegre;, veja, concorrer]                         |(100,[5,7,19,23,28,29,44,54,55],[1.0,1.0,1.0,1.0,1.0,1.0,1.0,1.0,1.0])               |(100,[5,7,19,23,28,29,44,54,55],[1.9388654915968653,2.6169256846896425,1.916013806323175,2.190432466226225,2.335814494324422,2.096407551859763,2.119366717240046,2.4749254858233836,2.4298918650883015])                                           |\n",
      "|54ba3a15-af6d-4a30-bdc8-735fbf28d311|2022-07-01 14:30:49|2022-07-02 16:09:09|Central do CadÚnico no Recife passa a atender aos sábados para inscrever vítimas das chuvas em Pernambuco|[central, do, cadúnico, no, recife, passa, a, atender, aos, sábados, para, inscrever, vítimas, das, chuvas, em, pernambuco]|[central, cadúnico, recife, passa, atender, sábados, inscrever, vítimas, chuvas, pernambuco]        |(100,[7,18,28,52,60,61,63,81,85,95],[1.0,1.0,1.0,1.0,1.0,1.0,1.0,1.0,1.0,1.0])       |(100,[7,18,28,52,60,61,63,81,85,95],[2.6169256846896425,2.3090770675799894,2.335814494324422,2.0527741182405066,2.7667374217735814,2.7536920112588033,2.5401769752640684,2.118617812071787,2.1839834173292774,2.442771610238207])                  |\n",
      "|8a540847-a4e5-4025-8244-bbcf9055e0f7|2022-07-01 19:23:28|2022-07-01 19:23:28|Veja como receber implantes contraceptivos gratuitamente em Ariquemes, RO                                |[veja, como, receber, implantes, contraceptivos, gratuitamente, em, ariquemes,, ro]                                        |[veja, receber, implantes, contraceptivos, gratuitamente, ariquemes,, ro]                           |(100,[1,19,24,30,46,83,91],[1.0,1.0,1.0,1.0,1.0,1.0,1.0])                            |(100,[1,19,24,30,46,83,91],[2.7191006893393146,1.916013806323175,2.106839646467919,1.9488133750051726,2.5316301258153344,2.563924859356404,2.7040831814685355])                                                                                    |\n",
      "|5dadae84-5e00-44a0-9503-b3b158441f7e|2022-07-01 21:13:38|2022-07-01 21:13:38|Centro de Vigilância em Saúde vacina contra Covid-19 e Influenza no sábado em Juiz de Fora               |[centro, de, vigilância, em, saúde, vacina, contra, covid-19, e, influenza, no, sábado, em, juiz, de, fora]                |[centro, vigilância, saúde, vacina, contra, covid-19, influenza, sábado, juiz, fora]                |(100,[3,9,10,23,34,35,46,72,77,91],[1.0,1.0,1.0,1.0,1.0,1.0,1.0,1.0,1.0,1.0])        |(100,[3,9,10,23,34,35,46,72,77,91],[2.33310835134775,2.5860663643967094,2.3694998983774083,2.190432466226225,2.550951759008435,2.503736682493552,2.5316301258153344,2.8282725955485493,2.4326506102748198,2.7040831814685355])                     |\n",
      "|e41315fa-7a51-48ab-8914-269a084755cc|2022-07-01 20:54:40|2022-07-02 00:41:06|VÍDEO: Tiroteio deixa feridos e um morto no terminal de ônibus de Pirajá, em Salvador                    |[vídeo:, tiroteio, deixa, feridos, e, um, morto, no, terminal, de, ônibus, de, pirajá,, em, salvador]                      |[vídeo:, tiroteio, deixa, feridos, morto, terminal, ônibus, pirajá,, salvador]                      |(100,[8,18,24,39,46,48,74,90,98],[1.0,1.0,1.0,1.0,1.0,1.0,1.0,1.0,1.0])              |(100,[8,18,24,39,46,48,74,90,98],[2.2717057925429236,2.3090770675799894,2.106839646467919,2.380816090901537,2.5316301258153344,2.315793805593525,2.3235942192451504,2.524766680890352,2.39059424890543])                                           |\n",
      "|8d178071-0640-4580-9d46-e4a468c5402e|2022-07-01 21:34:47|2022-07-01 21:34:47|MPF cobra medidas para proteção de agricultores ameaçados em Anapu, no Pará                              |[mpf, cobra, medidas, para, proteção, de, agricultores, ameaçados, em, anapu,, no, pará]                                   |[mpf, cobra, medidas, proteção, agricultores, ameaçados, anapu,, pará]                              |(100,[0,4,5,59,65,72,79,88],[1.0,1.0,1.0,1.0,1.0,1.0,1.0,1.0])                       |(100,[0,4,5,59,65,72,79,88],[2.6030398977764153,2.1791305532870826,1.9388654915968653,2.4797245631761573,2.2816174320878617,2.8282725955485493,2.414240713466533,2.060084248822289])                                                               |\n",
      "|dc89ce25-cd31-49ba-8ce5-e5f75b2aa1ef|2022-07-01 18:51:28|2022-07-01 18:55:13|Recife realiza mutirão de vacinação contra Covid, gripe e sarampo sem agendamento em dez localidades     |[recife, realiza, mutirão, de, vacinação, contra, covid,, gripe, e, sarampo, sem, agendamento, em, dez, localidades]       |[recife, realiza, mutirão, vacinação, contra, covid,, gripe, sarampo, agendamento, dez, localidades]|(100,[7,17,23,29,32,41,44,55,85,86,90],[1.0,1.0,1.0,1.0,1.0,1.0,1.0,1.0,1.0,1.0,1.0])|(100,[7,17,23,29,32,41,44,55,85,86,90],[2.6169256846896425,2.604150039830005,2.190432466226225,2.096407551859763,2.5047897172452727,2.39728122997208,2.119366717240046,2.4298918650883015,2.1839834173292774,2.4694556719726437,2.524766680890352])|\n",
      "|707bbe3b-36a8-48fc-b748-87f53cf8cc5a|2022-07-01 13:43:12|2022-07-01 13:47:07|Catedral São Pedro de Alcântara, em Petrópolis, é reaberta ao público e traz relíquias do século XVI     |[catedral, são, pedro, de, alcântara,, em, petrópolis,, é, reaberta, ao, público, e, traz, relíquias, do, século, xvi]     |[catedral, pedro, alcântara,, petrópolis,, reaberta, público, traz, relíquias, século, xvi]         |(100,[5,10,29,36,43,44,48,67,81,86],[1.0,1.0,1.0,1.0,1.0,1.0,1.0,1.0,1.0,1.0])       |(100,[5,10,29,36,43,44,48,67,81,86],[1.9388654915968653,2.3694998983774083,2.096407551859763,2.2702274836104315,2.686642057956617,2.119366717240046,2.315793805593525,1.8074608796760963,2.118617812071787,2.4694556719726437])                    |\n",
      "+------------------------------------+-------------------+-------------------+---------------------------------------------------------------------------------------------------------+---------------------------------------------------------------------------------------------------------------------------+----------------------------------------------------------------------------------------------------+-------------------------------------------------------------------------------------+---------------------------------------------------------------------------------------------------------------------------------------------------------------------------------------------------------------------------------------------------+\n",
      "only showing top 10 rows\n",
      "\n"
     ]
    }
   ],
   "source": [
    "# Read data (note the correct path for mapped volume)\n",
    "itens_embeddings = spark.read \\\n",
    "    .option(\"mergeSchema\", \"false\") \\\n",
    "    .parquet(\"/app/datalake/silver/itens_embeddings/year=2022/month=7/day=1\") \\\n",
    "    .coalesce(2)\n",
    "\n",
    "itens_embeddings.show(10,truncate=False)"
   ]
  },
  {
   "cell_type": "code",
   "execution_count": 5,
   "metadata": {},
   "outputs": [
    {
     "name": "stderr",
     "output_type": "stream",
     "text": [
      "25/02/19 19:03:08 WARN DAGScheduler: Broadcasting large task binary with size 46.5 MiB\n",
      "                                                                                \r"
     ]
    },
    {
     "name": "stdout",
     "output_type": "stream",
     "text": [
      "+--------+------------------------------------+----+-----+---+-----------------+--------+\n",
      "|user_idx|page                                |year|month|day|interaction_score|item_idx|\n",
      "+--------+------------------------------------+----+-----+---+-----------------+--------+\n",
      "|14098.0 |0077f0d7-1d66-4e4c-b6e4-cc56f67306b6|2022|7    |1  |4.223114801100763|448.0   |\n",
      "|14098.0 |efef5cd6-fbf5-469c-bf43-8e0d30f64134|2022|7    |1  |4.447017848065036|239021.0|\n",
      "|36389.0 |82e7b237-e7ea-4cf5-b44c-55385e2cdbb0|2022|7    |1  |4.516456318872515|129939.0|\n",
      "|36389.0 |109adb08-8ff3-408b-b828-e16b51788202|2022|7    |1  |3.684207681792833|16412.0 |\n",
      "|112387.0|426e9777-7ad8-4b0f-98f4-48e8ee96ace5|2022|7    |1  |4.252949808003409|65809.0 |\n",
      "|63369.0 |352e341c-bbd1-4bd9-9732-fb917cb37803|2022|7    |1  |3.780033387296842|52780.0 |\n",
      "|319570.0|8c67956e-c8a7-4ee1-8f09-aa9ee4d27279|2022|7    |1  |3.68418067293674 |139412.0|\n",
      "|72371.0 |5add4d01-a7d7-4819-a657-e677b24ece4d|2022|7    |1  |4.76333562766699 |90206.0 |\n",
      "|72371.0 |914fe264-109c-4d4d-8f18-052785666a24|2022|7    |1  |4.380574161261457|144222.0|\n",
      "|72371.0 |66a9efac-fd43-4fd1-9824-c404b08efa5d|2022|7    |1  |4.510904183703415|102019.0|\n",
      "+--------+------------------------------------+----+-----+---+-----------------+--------+\n",
      "only showing top 10 rows\n",
      "\n"
     ]
    }
   ],
   "source": [
    "matrices_interactions = spark.read \\\n",
    "    .option(\"mergeSchema\", \"false\") \\\n",
    "    .parquet(\"datalake/gold/matrices/interactions/year=2022/month=7/day=1\") \\\n",
    "    .coalesce(2)\n",
    "\n",
    "matrices_interactions.show(10,truncate=False)"
   ]
  },
  {
   "cell_type": "code",
   "execution_count": 7,
   "metadata": {},
   "outputs": [
    {
     "name": "stderr",
     "output_type": "stream",
     "text": [
      "25/02/19 19:06:44 WARN DAGScheduler: Broadcasting large task binary with size 9.6 MiB\n"
     ]
    },
    {
     "name": "stdout",
     "output_type": "stream",
     "text": [
      "+--------+-----------+---------------+\n",
      "|item_idx|feature_idx|embedding_value|\n",
      "+--------+-----------+---------------+\n",
      "|7.0     |0          |2.60304        |\n",
      "|7.0     |1          |0.0            |\n",
      "|7.0     |2          |0.0            |\n",
      "|7.0     |3          |0.0            |\n",
      "|7.0     |4          |0.0            |\n",
      "|7.0     |5          |0.0            |\n",
      "|7.0     |6          |0.0            |\n",
      "|7.0     |7          |0.0            |\n",
      "|7.0     |8          |0.0            |\n",
      "|7.0     |9          |0.0            |\n",
      "+--------+-----------+---------------+\n",
      "only showing top 10 rows\n",
      "\n"
     ]
    }
   ],
   "source": [
    "matrices_item_features = spark.read \\\n",
    "    .option(\"mergeSchema\", \"false\") \\\n",
    "    .parquet(\"datalake/gold/matrices/item_features\") \\\n",
    "    .coalesce(2)\n",
    "\n",
    "matrices_item_features.show(10,truncate=False)"
   ]
  },
  {
   "cell_type": "code",
   "execution_count": 18,
   "metadata": {},
   "outputs": [
    {
     "name": "stderr",
     "output_type": "stream",
     "text": [
      "25/02/19 19:18:17 WARN WindowExec: No Partition Defined for Window operation! Moving all data to a single partition, this can cause serious performance degradation.\n",
      "25/02/19 19:18:17 WARN WindowExec: No Partition Defined for Window operation! Moving all data to a single partition, this can cause serious performance degradation.\n",
      "25/02/19 19:18:17 WARN WindowExec: No Partition Defined for Window operation! Moving all data to a single partition, this can cause serious performance degradation.\n",
      "[Stage 31:======================================>                   (2 + 1) / 3]\r"
     ]
    },
    {
     "name": "stdout",
     "output_type": "stream",
     "text": [
      "+------------------------------------+--------+\n",
      "|page                                |item_idx|\n",
      "+------------------------------------+--------+\n",
      "|000031b7-5c82-4e5c-bc37-6acba5e5027d|0       |\n",
      "|0000352b-5a88-4a69-8f30-120da7169573|1       |\n",
      "|00004767-ce1e-436a-85c0-68ee9f456a61|2       |\n",
      "|00004fb2-18c3-4b13-94f5-d334c3d3259a|3       |\n",
      "|0000d552-fb56-4fc1-9f7d-17fac18e6937|4       |\n",
      "|0001eba9-55f4-477f-9de3-dc93b8b95574|5       |\n",
      "|00021df2-031a-4bd6-9568-1b203530d8fa|6       |\n",
      "|00023dfe-6554-4de8-8dfd-f6ede169808e|7       |\n",
      "|000278b4-cc13-404e-9a1d-8bc1f7bf456e|8       |\n",
      "|00030c8c-7fe8-4c44-aa6d-2c6a899c3ce5|9       |\n",
      "+------------------------------------+--------+\n",
      "only showing top 10 rows\n",
      "\n"
     ]
    },
    {
     "name": "stderr",
     "output_type": "stream",
     "text": [
      "                                                                                \r"
     ]
    }
   ],
   "source": [
    "from pyspark.sql.window import Window\n",
    "from pyspark.sql.functions import explode, row_number\n",
    "\n",
    "# Ler e explodir os arrays aninhados\n",
    "page_indexer = spark.read \\\n",
    "    .parquet(\"datalake/gold/matrices/page_indexer/data\") \\\n",
    "    .select(explode(\"labelsArray\").alias(\"labels\")) \\\n",
    "    .select(explode(\"labels\").alias(\"page\")) \\\n",
    "    .withColumn(\"item_idx\", row_number().over(Window.orderBy(\"page\")) - 1)\n",
    "\n",
    "# Mostrar o mapeamento\n",
    "page_indexer.show(10, truncate=False)"
   ]
  },
  {
   "cell_type": "code",
   "execution_count": 19,
   "metadata": {},
   "outputs": [
    {
     "name": "stderr",
     "output_type": "stream",
     "text": [
      "25/02/19 19:19:18 WARN WindowExec: No Partition Defined for Window operation! Moving all data to a single partition, this can cause serious performance degradation.\n",
      "25/02/19 19:19:18 WARN WindowExec: No Partition Defined for Window operation! Moving all data to a single partition, this can cause serious performance degradation.\n",
      "25/02/19 19:19:18 WARN WindowExec: No Partition Defined for Window operation! Moving all data to a single partition, this can cause serious performance degradation.\n",
      "[Stage 34:===================================================>      (8 + 1) / 9]\r"
     ]
    },
    {
     "name": "stdout",
     "output_type": "stream",
     "text": [
      "+----------------------------------------------------------------+--------+\n",
      "|page                                                            |item_idx|\n",
      "+----------------------------------------------------------------+--------+\n",
      "|000044b36375e7f1a66a9476affc2ddc83c2ec6dd18951668074de9c6a0faf15|0       |\n",
      "|00004868f064a8147619ca4d75eac9ccabfbe1169840e67008a7c1350206807b|1       |\n",
      "|00007a4e5949a3dba7c977503c53e0873643fe17d0802aca678ad62d0b4d94f8|2       |\n",
      "|000087b05ccb95dec5d55e968764285c5403747fc35da2127f13bfd3879cd9e9|3       |\n",
      "|00011b1ced626112372206634e0e9b5ccb432da916e83f2bad98dd2f3daafcd9|4       |\n",
      "|00012cd490cea9fe043146807def18c830fa0d0b791772ed6a70ee03618df548|5       |\n",
      "|00014a8ad79d212f0410c3dd3260e37a093054b9d9a6a80b04843fd3ec9ee39b|6       |\n",
      "|00019abf778947398b46310c3947cc0260f30e79683ae9e244e3af0a5a29aa0f|7       |\n",
      "|0001b40676c18a37bf25f0b1921ad12513c434cb57db18847fed8c8c743df905|8       |\n",
      "|0001b9972aec5ac47e28fb0a0747d598f4c4058c2dbd3f8fbc6e23bced2fcc19|9       |\n",
      "+----------------------------------------------------------------+--------+\n",
      "only showing top 10 rows\n",
      "\n"
     ]
    },
    {
     "name": "stderr",
     "output_type": "stream",
     "text": [
      "                                                                                \r"
     ]
    }
   ],
   "source": [
    "from pyspark.sql.window import Window\n",
    "from pyspark.sql.functions import explode, row_number\n",
    "\n",
    "# Ler e explodir os arrays aninhados\n",
    "user_indexer = spark.read \\\n",
    "    .parquet(\"datalake/gold/matrices/user_indexer/data\") \\\n",
    "    .select(explode(\"labelsArray\").alias(\"labels\")) \\\n",
    "    .select(explode(\"labels\").alias(\"page\")) \\\n",
    "    .withColumn(\"item_idx\", row_number().over(Window.orderBy(\"page\")) - 1)\n",
    "\n",
    "# Mostrar o mapeamento\n",
    "user_indexer.show(10, truncate=False)"
   ]
  }
 ],
 "metadata": {
  "kernelspec": {
   "display_name": "Python 3",
   "language": "python",
   "name": "python3"
  },
  "language_info": {
   "codemirror_mode": {
    "name": "ipython",
    "version": 3
   },
   "file_extension": ".py",
   "mimetype": "text/x-python",
   "name": "python",
   "nbconvert_exporter": "python",
   "pygments_lexer": "ipython3",
   "version": "3.12.2"
  }
 },
 "nbformat": 4,
 "nbformat_minor": 4
}
